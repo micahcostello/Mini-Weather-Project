{
 "cells": [
  {
   "cell_type": "markdown",
   "id": "2bf6162d-de86-4ec2-a388-3124d6f4eb4d",
   "metadata": {},
   "source": [
    "# Comparing weather trends in Madrid and the world \n",
    "### by Micah Costello\n",
    "\n",
    "\n"
   ]
  },
  {
   "cell_type": "markdown",
   "id": "946c7997-e395-4c3e-b543-411b7517d5df",
   "metadata": {},
   "source": [
    "\n",
    "\n",
    "\n",
    "For my Udacity project on weather trends, I decided to compare yearly average global temperatures with yearly average temperatures in Madrid, Spain. The data spans from 1750 to 2013. "
   ]
  },
  {
   "cell_type": "markdown",
   "id": "98cef532-779c-455f-9c59-c1c02e8ec260",
   "metadata": {},
   "source": [
    "## STEP 1 : Extracting the data from SQL database\n",
    "\n",
    "I used the following query to extract the data from Udacity's weather database :\n",
    "\n",
    "            SELECT \n",
    "                    city_data.year,\n",
    "                    city_data.avg_temp AS Madrid_avg_temp, \t\t\t\t\n",
    "                    global_data.avg_temp AS global_avg_temp\n",
    "                FROM city_data \n",
    "                LEFT JOIN \n",
    "                    global_data \n",
    "                    ON global_data.year = city_data.year \n",
    "                WHERE city = 'Madrid';"
   ]
  },
  {
   "cell_type": "markdown",
   "id": "da4c974e-34b6-4a53-aa8c-6b335aee5372",
   "metadata": {},
   "source": [
    "## STEP 2: Accessing and preparing the data\n",
    "\n",
    "To access the .csv file and prepare the data, I used Python's Pandas library. Given that there is no global temperature data in the database from before the year 1750, and that the data for Madrid for those years has some NaN values, I decided to drop all the rows from before that year."
   ]
  },
  {
   "cell_type": "code",
   "execution_count": 22,
   "id": "d2187a54-1561-40ef-b2f9-78b395fa11c0",
   "metadata": {},
   "outputs": [],
   "source": [
    "import pandas as pd\n",
    "df = pd.read_csv('mad_global_temps.csv')\n",
    "drop_indices = range(7)\n",
    "df.drop(drop_indices, axis = 0, inplace = True)\n",
    "df.reset_index(inplace = True,drop = True)"
   ]
  },
  {
   "cell_type": "code",
   "execution_count": 23,
   "id": "00fdecab-de48-48f1-9c41-f37236247f3a",
   "metadata": {},
   "outputs": [
    {
     "data": {
      "text/html": [
       "<div>\n",
       "<style scoped>\n",
       "    .dataframe tbody tr th:only-of-type {\n",
       "        vertical-align: middle;\n",
       "    }\n",
       "\n",
       "    .dataframe tbody tr th {\n",
       "        vertical-align: top;\n",
       "    }\n",
       "\n",
       "    .dataframe thead th {\n",
       "        text-align: right;\n",
       "    }\n",
       "</style>\n",
       "<table border=\"1\" class=\"dataframe\">\n",
       "  <thead>\n",
       "    <tr style=\"text-align: right;\">\n",
       "      <th></th>\n",
       "      <th>year</th>\n",
       "      <th>madrid_avg_temp</th>\n",
       "      <th>global_avg_temp</th>\n",
       "    </tr>\n",
       "  </thead>\n",
       "  <tbody>\n",
       "    <tr>\n",
       "      <th>0</th>\n",
       "      <td>1750</td>\n",
       "      <td>12.01</td>\n",
       "      <td>8.72</td>\n",
       "    </tr>\n",
       "    <tr>\n",
       "      <th>1</th>\n",
       "      <td>1751</td>\n",
       "      <td>12.71</td>\n",
       "      <td>7.98</td>\n",
       "    </tr>\n",
       "    <tr>\n",
       "      <th>2</th>\n",
       "      <td>1752</td>\n",
       "      <td>7.07</td>\n",
       "      <td>5.78</td>\n",
       "    </tr>\n",
       "    <tr>\n",
       "      <th>3</th>\n",
       "      <td>1753</td>\n",
       "      <td>11.47</td>\n",
       "      <td>8.39</td>\n",
       "    </tr>\n",
       "    <tr>\n",
       "      <th>4</th>\n",
       "      <td>1754</td>\n",
       "      <td>11.49</td>\n",
       "      <td>8.47</td>\n",
       "    </tr>\n",
       "  </tbody>\n",
       "</table>\n",
       "</div>"
      ],
      "text/plain": [
       "   year  madrid_avg_temp  global_avg_temp\n",
       "0  1750            12.01             8.72\n",
       "1  1751            12.71             7.98\n",
       "2  1752             7.07             5.78\n",
       "3  1753            11.47             8.39\n",
       "4  1754            11.49             8.47"
      ]
     },
     "execution_count": 23,
     "metadata": {},
     "output_type": "execute_result"
    }
   ],
   "source": [
    "df.head()"
   ]
  },
  {
   "cell_type": "markdown",
   "id": "d087cf05-8555-48c1-b6f8-f47a6f3d51d4",
   "metadata": {},
   "source": [
    "## STEP 3: Finding the moving average\n",
    "\n",
    "To find the moving average, I used Pandas' \".rolling\" method, opting for a period of 10 years to smooth out the lines and make the trends more visible.\n"
   ]
  },
  {
   "cell_type": "code",
   "execution_count": 48,
   "id": "88033385-ef23-4161-b6cf-b9b324fa3680",
   "metadata": {},
   "outputs": [],
   "source": [
    "df['madrid_MA'] = df['madrid_avg_temp'].rolling(10).mean()\n",
    "df['global_MA'] = df['global_avg_temp'].rolling(10).mean()"
   ]
  },
  {
   "cell_type": "markdown",
   "id": "91d8efbd-afd2-4db7-a17d-9bba228f8cdd",
   "metadata": {},
   "source": [
    "## STEP 4: Visualizing the data\n",
    "\n",
    "I created a line chart for the data using Python's Matplotlib library. Both of the lines are on the same graph to facilitate comparison. "
   ]
  },
  {
   "cell_type": "code",
   "execution_count": 49,
   "id": "b1b57c0a-e1cb-4a0f-93ce-55d47feac659",
   "metadata": {},
   "outputs": [],
   "source": [
    "import matplotlib.pyplot as plt"
   ]
  },
  {
   "cell_type": "code",
   "execution_count": 53,
   "id": "58e389e6-c5ce-4cc4-866f-6159ecd75fff",
   "metadata": {},
   "outputs": [
    {
     "data": {
      "image/png": "[encoded data removed]",
      "text/plain": [
       "<Figure size 576x576 with 1 Axes>"
      ]
     },
     "metadata": {
      "needs_background": "light"
     },
     "output_type": "display_data"
    }
   ],
   "source": [
    "x = df['year']\n",
    "y1 = df['madrid_MA']\n",
    "y2 = df['global_MA']\n",
    "plt.figure(figsize = (8,8))\n",
    "plt.plot(x,y1)\n",
    "plt.plot(x,y2)\n",
    "\n",
    "plt.title('Average Yearly Temperatures In Madrid and the World')\n",
    "plt.xlabel('year')\n",
    "plt.ylabel('temperature')\n",
    "plt.legend(['Madrid','global'])\n",
    "plt.show()"
   ]
  },
  {
   "cell_type": "markdown",
   "id": "ebeee1af-ff0e-4c7f-9f42-2180293d468f",
   "metadata": {},
   "source": [
    "## STEP 5: Observations\n",
    "\n",
    "1. The average yearly temperature in Madrid is consistently around 3 degrees higher than the global yearly average temperature. \n",
    "\n",
    "2. The changes in the yearly average in Madrid seem to be more erratic than those of the global yearly average. This may be because the global average is already an average of averages, and its line chart is therefore smoother. \n",
    "\n",
    "3. Despite observation #2, the crests and troughs in Madrid's data do appear to correspond to those of the global data. What happens to tempratures globally is reflected in Madrid. \n",
    "\n",
    "4. In both lines, there is a trend of increasing temperatures. Globally, the trend seems to take off around the middle of the 19th century, and in Madrid, around the beginning of the 20th century. The trend is more evident and consistent in the global data line."
   ]
  }
 ],
 "metadata": {
  "kernelspec": {
   "display_name": "Python 3 (ipykernel)",
   "language": "python",
   "name": "python3"
  },
  "language_info": {
   "codemirror_mode": {
    "name": "ipython",
    "version": 3
   },
   "file_extension": ".py",
   "mimetype": "text/x-python",
   "name": "python",
   "nbconvert_exporter": "python",
   "pygments_lexer": "ipython3",
   "version": "3.9.6"
  }
 },
 "nbformat": 4,
 "nbformat_minor": 5
}
